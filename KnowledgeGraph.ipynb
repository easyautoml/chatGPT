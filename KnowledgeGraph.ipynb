{
 "cells": [
  {
   "cell_type": "code",
   "execution_count": 1,
   "id": "4eedc478-58bb-43a8-a2a9-b72fbf416d25",
   "metadata": {},
   "outputs": [],
   "source": [
    "import openai\n",
    "import os \n",
    "\n",
    "openai.api_key =  os.getenv(\"OPENAI_API\")"
   ]
  },
  {
   "cell_type": "markdown",
   "id": "322fbe05-2819-450c-8565-141a54ef0dbf",
   "metadata": {},
   "source": [
    "## 1. OpenAIで文書から属性とRelationshipの抽出*"
   ]
  },
  {
   "cell_type": "markdown",
   "id": "6d56b81b-eaab-4554-aea4-b42441e7c8a7",
   "metadata": {},
   "source": [
    "**PROMPT SETTING**"
   ]
  },
  {
   "cell_type": "code",
   "execution_count": 24,
   "id": "078b3dc2-f999-47bc-95ee-0d266c0e5010",
   "metadata": {},
   "outputs": [],
   "source": [
    "def generate_system_message() -> str:\n",
    "    return \"\"\"\n",
    "    You are a data scientist working for a company that is building a graph database. Your task is to extract information from data and convert it into a graph database.\n",
    "    Provide a set of Nodes in the form [ENTITY_ID, TYPE, PROPERTIES] and a set of relationships in the form [ENTITY_ID_1, RELATIONSHIP, ENTITY_ID_2, PROPERTIES].\n",
    "    It is important that the ENTITY_ID_1 and ENTITY_ID_2 exists as nodes with a matching ENTITY_ID. If you can't pair a relationship with a pair of nodes don't add it.\n",
    "    When you find a node or relationship you want to add try to create a generic TYPE for it that  describes the entity you can also think of it as a label.\n",
    "    \n",
    "    Example:\n",
    "    Data: Alice lawyer and is 25 years old and Bob is her roommate since 2001. Bob works as a journalist. Alice owns a the webpage www.alice.com and Bob owns the webpage www.bob.com.\n",
    "    Nodes: [\"alice\", \"Person\", {\"age\": 25, \"occupation\": \"lawyer\", \"name\":\"Alice\"}], [\"bob\", \"Person\", {\"occupation\": \"journalist\", \"name\": \"Bob\"}], [\"alice.com\", \"Webpage\", {\"url\": \"www.alice.com\"}], [\"bob.com\", \"Webpage\", {\"url\": \"www.bob.com\"}]\n",
    "    Relationships: [\"alice\", \"roommate\", \"bob\", {\"start\": 2021}], [\"alice\", \"owns\", \"alice.com\", {}], [\"bob\", \"owns\", \"bob.com\", {}]\n",
    "    \"\"\"\n",
    "\n",
    "def generate_prompt(data) -> str:\n",
    "    return f\"\"\"\n",
    "    Data: {data}\"\"\""
   ]
  },
  {
   "cell_type": "code",
   "execution_count": 25,
   "id": "02a442c3-aebc-4f1d-bd5e-d39e8a267358",
   "metadata": {},
   "outputs": [],
   "source": [
    "# Sample Data\n",
    "obama_article = \"\"\"Barack Hussein Obama II (/bəˈrɑːk huːˈseɪn oʊˈbɑːmə/ (listen) bə-RAHK hoo-SAYN oh-BAH-mə;[1] born August 4, 1961) is an American politician who served as the 44th president of the United States from 2009 to 2017. A member of the Democratic Party, he was the first African-American president of the United States.[2] Obama previously served as a U.S. senator representing Illinois from 2005 to 2008 and as an Illinois state senator from 1997 to 2004, and worked as a civil rights lawyer and university lecturer.\n",
    "\n",
    "Obama was born in Honolulu, Hawaii. After graduating from Columbia University in 1983, he worked as a community organizer in Chicago. In 1988, he enrolled in Harvard Law School, where he was the first black president of the Harvard Law Review. After graduating, he became a civil rights attorney and an academic, teaching constitutional law at the University of Chicago Law School from 1992 to 2004. Turning to elective politics, he represented the 13th district in the Illinois Senate from 1997 until 2004, when he ran for the U.S. Senate. In 2008, after a close primary campaign against Hillary Clinton, he was nominated by the Democratic Party for president and chose Joe Biden as his running mate. Obama was elected over Republican nominee John McCain in the presidential election and was inaugurated on January 20, 2009. Nine months later, he was named the 2009 Nobel Peace Prize laureate, a decision that drew a mixture of praise and criticism.\n",
    "\n",
    "Obama's first-term actions addressed the global financial crisis and included a major stimulus package, a partial extension of George W. Bush's tax cuts, legislation to reform health care, a major financial regulation reform bill, and the end of a major US military presence in Iraq. Obama also appointed Supreme Court justices Sonia Sotomayor and Elena Kagan, the former being the first Hispanic American on the Supreme Court. He ordered the counterterrorism raid which killed Osama bin Laden and downplayed Bush's counterinsurgency model, expanding air strikes and making extensive use of special forces while encouraging greater reliance on host-government militaries.\n",
    "\n",
    "After winning re-election by defeating Republican opponent Mitt Romney, Obama was sworn in for a second term on January 20, 2013. In his second term, Obama took steps to combat climate change, signing a major international climate agreement and an executive order to limit carbon emissions. Obama also presided over the implementation of the Affordable Care Act and other legislation passed in his first term, and he negotiated a nuclear agreement with Iran and normalized relations with Cuba. The number of American soldiers in Afghanistan fell dramatically during Obama's second term, though U.S. soldiers remained in Afghanistan throughout Obama's presidency.\n",
    "\"\"\"\n",
    "\n",
    "system_message = generate_system_message()\n",
    "\n",
    "prompt_string = generate_prompt(obama_jp)\n",
    "\n",
    "messages = [\n",
    "        {\"role\": \"system\", \"content\": system_message},\n",
    "        {\"role\": \"user\", \"content\": prompt_string},\n",
    "]"
   ]
  },
  {
   "cell_type": "code",
   "execution_count": 4,
   "id": "892f0462-06db-4f33-ba44-0c31dd2bd48f",
   "metadata": {},
   "outputs": [],
   "source": [
    "# Using open AI to extract nodes from article\n",
    "output = openai.ChatCompletion.create(\n",
    "  model=\"gpt-3.5-turbo\",\n",
    "  messages=messages\n",
    ")"
   ]
  },
  {
   "cell_type": "code",
   "execution_count": 5,
   "id": "91280864-949f-4c67-ba19-bbb7e833b00b",
   "metadata": {},
   "outputs": [],
   "source": [
    "output_str = [output.to_dict().get('choices')[0].get(\"message\").to_dict().get(\"content\")]"
   ]
  },
  {
   "cell_type": "markdown",
   "id": "a4d3497e-ccc1-47f5-ab0e-673d3cd71818",
   "metadata": {},
   "source": [
    "**OpenAIから出てきた結果**"
   ]
  },
  {
   "cell_type": "code",
   "execution_count": 12,
   "id": "4ec7ad42-7348-45a2-8711-9e044276f868",
   "metadata": {},
   "outputs": [
    {
     "data": {
      "text/plain": [
       "'Nodes: \\n[\"barack_obama\", \"Person\", {\"occupation\": \"politician, lawyer\", \"birth_date\": \"1961-08-04\"}],\\n[\"columbia_university\", \"University\", {\"name\": \"Columbia University\"}],\\n[\"harvard_law_school\", \"University\", {\"name\": \"Harvard Law School\"}],\\n[\"chicago\", \"City\", {\"name\": \"Chicago\"}],\\n[\"chicago_university_law_school\", \"University\", {\"name\": \"Chicago University Law School\"}],\\n[\"illinois_state_senate\", \"Government Position\", {\"name\": \"Illinois State Senate\"}],\\n[\"u.s._senate\", \"Government Position\", {\"name\": \"U.S. Senate\"}]\\n\\nRelationships: \\n[\"barack_obama\", \"graduated_from\", \"columbia_university\", {}],\\n[\"barack_obama\", \"worked_as\", \"community_organizer\", {\"location\": \"Chicago\"}],\\n[\"barack_obama\", \"graduated_from\", \"harvard_law_school\", {}],\\n[\"barack_obama\", \"worked_as\", \"lawyer\", {\"field\": \"civil rights\"}],\\n[\"barack_obama\", \"served_as\", \"illinois_state_senate\", {}],\\n[\"barack_obama\", \"served_as\", \"u.s._senate\", {}]'"
      ]
     },
     "execution_count": 12,
     "metadata": {},
     "output_type": "execute_result"
    }
   ],
   "source": [
    "output_str[0]"
   ]
  },
  {
   "cell_type": "markdown",
   "id": "f84da728-a324-4cb1-b037-c6de07a3154f",
   "metadata": {},
   "source": [
    "## 2. Clean the text\n",
    "\n",
    "From above text, we need extract following information : \n",
    "- Nodes. Each node include following information\n",
    "```\n",
    "{key: 1, name: barack_obama, label: Person, properties: {}}\n",
    "```\n",
    "\n",
    "- Relationship.\n",
    "  ```\n",
    "  {'start_name': 'barack_obama',\r\n",
    "  'start_key': 0,\r\n",
    "  'end_name': 'harvard_law_school',\r\n",
    "  'end_key': 3,\r\n",
    "  'type': 'enrolled in',\r\n",
    "  'properties':\n",
    "  ``` {}},"
   ]
  },
  {
   "cell_type": "code",
   "execution_count": 6,
   "id": "b49f6aaa-806f-4adf-8e15-70fced02d304",
   "metadata": {},
   "outputs": [],
   "source": [
    "import re\n",
    "import json\n",
    "\n",
    "def extract_nodes(nodes):\n",
    "    \"\"\"\n",
    "    Extract nodes\n",
    "    \"\"\"\n",
    "    jsonRegex = \"\\{(.*?)\\}\"\n",
    "    \n",
    "    result = []\n",
    "    for i, node in enumerate(nodes):\n",
    "        node_detail = node.split(\",\")\n",
    "        name = node_detail[0].strip().replace('\"', \"\")\n",
    "        label = node_detail[1].strip().replace('\"', \"\")\n",
    "        properties = re.search(jsonRegex, node)\n",
    "        \n",
    "        if properties == None or properties.group(1).strip() == \"\":\n",
    "            properties = \"{}\"\n",
    "        else:\n",
    "            properties = properties.group(0)\n",
    "\n",
    "        properties = properties.replace(\"True\", \"true\").replace(\"False\", \"false\")\n",
    "        properties = json.loads(properties)\n",
    "        result.append({\"key\": i,\"name\": name, \"label\": label, \"properties\": properties})\n",
    "        \n",
    "    return result\n",
    "\n",
    "def extract_relationships(relationships, nodes):\n",
    "    \"\"\"\n",
    "    Extract relationship between nodes\n",
    "    \"\"\"\n",
    "    jsonRegex = '\\\\{(.*?)\\\\}'\n",
    "    \n",
    "    result = []\n",
    "    for relation in relationships:\n",
    "        relation = relation.replace(\"True\", \"true\").replace(\"False\", \"false\")\n",
    "\n",
    "        relationList = relation.split(\",\")\n",
    "        if len(relation) < 3:\n",
    "            continue\n",
    "        \n",
    "        start_name = relationList[0].strip().replace('\"', \"\")\n",
    "        start_key = get_key_node_by_name(nodes, start_name)\n",
    "\n",
    "        end_name = relationList[2].strip().replace('\"', \"\")\n",
    "        end_key = get_key_node_by_name(nodes, end_name)\n",
    "\n",
    "        if start_key is None or end_key is None:\n",
    "            continue\n",
    "            \n",
    "        type = relationList[1].strip().replace('\"', \"\")\n",
    "\n",
    "        properties = re.search(jsonRegex, relation)\n",
    "        if properties == None or properties.group(0).strip() == \"\":\n",
    "            properties = \"{}\"\n",
    "        else:\n",
    "            properties = properties.group(0)\n",
    "        properties = json.loads(properties)\n",
    "\n",
    "        result.append(\n",
    "            {\"start_name\": start_name, \"start_key\": start_key,\n",
    "             \"end_name\": end_name, \"end_key\": end_key,\n",
    "             \"type\": type, \"properties\": properties}\n",
    "        )\n",
    "    return result\n",
    "    \n",
    "def getNodesAndRelationshipsFromResult(result):\n",
    "    regex = \"Nodes:\\s+(.*?)\\s?\\s?Relationships:\\s+(.*)\"\n",
    "    internalRegex = \"\\[(.*?)\\]\"\n",
    "\n",
    "    nodes = []\n",
    "    relationships = []\n",
    "    \n",
    "    for row in result:\n",
    "        parsing = re.match(regex, row, flags=re.S)\n",
    "\n",
    "        if parsing == None:\n",
    "            continue\n",
    "\n",
    "        rawNodes = str(parsing.group(1))\n",
    "        rawRelationships = parsing.group(2)\n",
    "\n",
    "        nodes.extend(re.findall(internalRegex, rawNodes))\n",
    "        relationships.extend(re.findall(internalRegex, rawRelationships))\n",
    "\n",
    "    nodes = extract_nodes(nodes)\n",
    "    relationships = extract_relationships(relationships, nodes)\n",
    "    return dict(\n",
    "                nodes = nodes,\n",
    "                relationships = relationships\n",
    "            )\n",
    "\n",
    "def get_key_node_by_name(nodes, name):\n",
    "    matching_nodes = [node for node in nodes if node.get('name') == name]\n",
    "    return matching_nodes[0].get(\"key\") if matching_nodes else None"
   ]
  },
  {
   "cell_type": "code",
   "execution_count": 7,
   "id": "3a7697cb-0fdf-403a-9edb-b73e976e7266",
   "metadata": {},
   "outputs": [],
   "source": [
    "result = getNodesAndRelationshipsFromResult(output_str)"
   ]
  },
  {
   "cell_type": "code",
   "execution_count": 8,
   "id": "1031b342-3bf3-4518-89f6-8de5d9b43d7e",
   "metadata": {},
   "outputs": [
    {
     "data": {
      "text/plain": [
       "{'nodes': [{'key': 0,\n",
       "   'name': 'barack_obama',\n",
       "   'label': 'Person',\n",
       "   'properties': {'occupation': 'politician, lawyer',\n",
       "    'birth_date': '1961-08-04'}},\n",
       "  {'key': 1,\n",
       "   'name': 'columbia_university',\n",
       "   'label': 'University',\n",
       "   'properties': {'name': 'Columbia University'}},\n",
       "  {'key': 2,\n",
       "   'name': 'harvard_law_school',\n",
       "   'label': 'University',\n",
       "   'properties': {'name': 'Harvard Law School'}},\n",
       "  {'key': 3,\n",
       "   'name': 'chicago',\n",
       "   'label': 'City',\n",
       "   'properties': {'name': 'Chicago'}},\n",
       "  {'key': 4,\n",
       "   'name': 'chicago_university_law_school',\n",
       "   'label': 'University',\n",
       "   'properties': {'name': 'Chicago University Law School'}},\n",
       "  {'key': 5,\n",
       "   'name': 'illinois_state_senate',\n",
       "   'label': 'Government Position',\n",
       "   'properties': {'name': 'Illinois State Senate'}},\n",
       "  {'key': 6,\n",
       "   'name': 'u.s._senate',\n",
       "   'label': 'Government Position',\n",
       "   'properties': {'name': 'U.S. Senate'}}],\n",
       " 'relationships': [{'start_name': 'barack_obama',\n",
       "   'start_key': 0,\n",
       "   'end_name': 'columbia_university',\n",
       "   'end_key': 1,\n",
       "   'type': 'graduated_from',\n",
       "   'properties': {}},\n",
       "  {'start_name': 'barack_obama',\n",
       "   'start_key': 0,\n",
       "   'end_name': 'harvard_law_school',\n",
       "   'end_key': 2,\n",
       "   'type': 'graduated_from',\n",
       "   'properties': {}},\n",
       "  {'start_name': 'barack_obama',\n",
       "   'start_key': 0,\n",
       "   'end_name': 'illinois_state_senate',\n",
       "   'end_key': 5,\n",
       "   'type': 'served_as',\n",
       "   'properties': {}},\n",
       "  {'start_name': 'barack_obama',\n",
       "   'start_key': 0,\n",
       "   'end_name': 'u.s._senate',\n",
       "   'end_key': 6,\n",
       "   'type': 'served_as',\n",
       "   'properties': {}}]}"
      ]
     },
     "execution_count": 8,
     "metadata": {},
     "output_type": "execute_result"
    }
   ],
   "source": [
    "result"
   ]
  },
  {
   "cell_type": "markdown",
   "id": "16a35d4d-7be8-4779-bebd-267ef7d49c4c",
   "metadata": {},
   "source": [
    "## 3. Visualization"
   ]
  },
  {
   "cell_type": "markdown",
   "id": "4164ec62-21f3-403e-a0a8-74343caf63b6",
   "metadata": {},
   "source": [
    "> pip install pyvis"
   ]
  },
  {
   "cell_type": "code",
   "execution_count": 9,
   "id": "93c46857-54a0-4b17-8a51-7e00a8755dd9",
   "metadata": {},
   "outputs": [],
   "source": [
    "from pyvis.network import Network\n",
    "\n",
    "def assign_category_colors(categories):\n",
    "    color_hex_mapping = {}\n",
    "    color_palette = [\n",
    "    '#1ABC9C', '#2ECC71', '#3498DB', '#9B59B6',\n",
    "    '#34495E', '#16A085', '#27AE60', '#2980B9',\n",
    "    '#8E44AD', '#2C3E50', '#F1C40F', '#E67E22'\n",
    "    ]\n",
    "    \n",
    "    for i, category in enumerate(categories):\n",
    "        color_hex_mapping[category] = color_palette[i % len(color_palette)]\n",
    "    \n",
    "    return color_hex_mapping\n",
    "    \n",
    "def visualize_nodes(result):\n",
    "\n",
    "    net = Network(notebook=True, \n",
    "                  cdn_resources=\"remote\", \n",
    "                  bgcolor=\"#222222\",\n",
    "                  font_color=\"white\",\n",
    "                  height=\"750px\",\n",
    "                  width=\"100%\",\n",
    "                  select_menu=False,\n",
    "                  filter_menu=False,\n",
    "                 )\n",
    "    \n",
    "    type = list(set([node.get(\"label\") for node in result.get(\"nodes\")]))\n",
    "    type_colors = assign_category_colors(type)\n",
    "    \n",
    "    node_keys = [node.get('key') for node in result.get(\"nodes\")]\n",
    "    node_labels = [node.get('name') for node in result.get(\"nodes\")]\n",
    "    node_color = [type_colors.get(node.get(\"label\")) for node in result.get(\"nodes\")]\n",
    "    node_title = [str(node.get(\"properties\")).replace(\"', '\", \"\\r\\n\").replace(\"'\", \"\").replace(\"{\", \"\").replace(\"}\", \"\") for node in result.get(\"nodes\")]\n",
    "    \n",
    "    net.add_nodes(node_keys, label=node_labels, color=node_color, title=node_title)\n",
    "\n",
    "    for relation in result.get(\"relationships\"):\n",
    "        net.add_edge(relation.get(\"start_key\"), to=relation.get(\"end_key\"), title=relation.get(\"type\"))\n",
    "\n",
    "    return net\n",
    "    "
   ]
  },
  {
   "cell_type": "code",
   "execution_count": 10,
   "id": "499370c2-0655-41de-a241-dff02328e80e",
   "metadata": {
    "scrolled": true
   },
   "outputs": [
    {
     "name": "stdout",
     "output_type": "stream",
     "text": [
      "edges.html\n"
     ]
    },
    {
     "data": {
      "text/html": [
       "\n",
       "        <iframe\n",
       "            width=\"100%\"\n",
       "            height=\"750px\"\n",
       "            src=\"edges.html\"\n",
       "            frameborder=\"0\"\n",
       "            allowfullscreen\n",
       "            \n",
       "        ></iframe>\n",
       "        "
      ],
      "text/plain": [
       "<IPython.lib.display.IFrame at 0x1c29668c280>"
      ]
     },
     "execution_count": 10,
     "metadata": {},
     "output_type": "execute_result"
    }
   ],
   "source": [
    "net = visualize_nodes(result)\n",
    "net.show('edges.html')\n",
    "# net.show_buttons(filter_=\"physics\")"
   ]
  },
  {
   "cell_type": "code",
   "execution_count": null,
   "id": "a4906fb8-2b78-4c3e-8ffc-967225e5e2b8",
   "metadata": {},
   "outputs": [],
   "source": []
  }
 ],
 "metadata": {
  "kernelspec": {
   "display_name": "Python 3 (ipykernel)",
   "language": "python",
   "name": "python3"
  },
  "language_info": {
   "codemirror_mode": {
    "name": "ipython",
    "version": 3
   },
   "file_extension": ".py",
   "mimetype": "text/x-python",
   "name": "python",
   "nbconvert_exporter": "python",
   "pygments_lexer": "ipython3",
   "version": "3.8.16"
  }
 },
 "nbformat": 4,
 "nbformat_minor": 5
}
